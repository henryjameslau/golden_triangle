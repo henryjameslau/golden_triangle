{
 "cells": [
  {
   "cell_type": "code",
   "execution_count": 1,
   "metadata": {},
   "outputs": [],
   "source": [
    "import geopandas as gpd\n",
    "import pandas as pd\n",
    "import fiona\n",
    "import multiprocess as mp\n",
    "import tqdm\n",
    "import shapely\n",
    "shapely.speedups.enable()"
   ]
  },
  {
   "cell_type": "code",
   "execution_count": 2,
   "metadata": {},
   "outputs": [
    {
     "name": "stderr",
     "output_type": "stream",
     "text": [
      "/usr/local/lib/python3.9/site-packages/IPython/core/interactiveshell.py:3146: DtypeWarning: Columns (18,31,40,45) have mixed types.Specify dtype option on import or set low_memory=False.\n",
      "  has_raised = await self.run_ast_nodes(code_ast.body, cell_name,\n"
     ]
    }
   ],
   "source": [
    "# read in postcodes, make it geodataframe, then set the CRS\n",
    "pc = pd.read_csv('/Users/Lauh/Documents/GitHub/postcode-to-workplace-zone/ONSPD_AUG_2021_UK.csv')\n",
    "pc = gpd.GeoDataFrame(pc,geometry=gpd.points_from_xy(pc['long'],pc['lat']))\n",
    "pc = pc.set_crs('WGS84')"
   ]
  },
  {
   "cell_type": "code",
   "execution_count": 9,
   "metadata": {},
   "outputs": [],
   "source": [
    "# read in the golden grid which has been dissolved into one polygon\n",
    "wmgoldengridmerged=gpd.read_file('wmgoldengridmerged.geojson').drop(columns=['inside','band1','grid_id','index_right','iso_id','min','max','center','population','lon','lat'])"
   ]
  },
  {
   "cell_type": "code",
   "execution_count": null,
   "metadata": {},
   "outputs": [],
   "source": [
    "# find out which postcodes are within the golden grid\n",
    "pcwmgg=gpd.sjoin(pc,wmgoldengridmerged,op=\"within\")"
   ]
  },
  {
   "cell_type": "code",
   "execution_count": 7,
   "metadata": {},
   "outputs": [
    {
     "data": {
      "text/html": [
       "<div>\n",
       "<style scoped>\n",
       "    .dataframe tbody tr th:only-of-type {\n",
       "        vertical-align: middle;\n",
       "    }\n",
       "\n",
       "    .dataframe tbody tr th {\n",
       "        vertical-align: top;\n",
       "    }\n",
       "\n",
       "    .dataframe thead th {\n",
       "        text-align: right;\n",
       "    }\n",
       "</style>\n",
       "<table border=\"1\" class=\"dataframe\">\n",
       "  <thead>\n",
       "    <tr style=\"text-align: right;\">\n",
       "      <th></th>\n",
       "      <th>inside</th>\n",
       "      <th>band1</th>\n",
       "      <th>grid_id</th>\n",
       "      <th>index_right</th>\n",
       "      <th>iso_id</th>\n",
       "      <th>id</th>\n",
       "      <th>min</th>\n",
       "      <th>max</th>\n",
       "      <th>center</th>\n",
       "      <th>population</th>\n",
       "      <th>lon</th>\n",
       "      <th>lat</th>\n",
       "      <th>geometry</th>\n",
       "    </tr>\n",
       "  </thead>\n",
       "  <tbody>\n",
       "    <tr>\n",
       "      <th>0</th>\n",
       "      <td>True</td>\n",
       "      <td>28</td>\n",
       "      <td>2669</td>\n",
       "      <td>0</td>\n",
       "      <td>2556</td>\n",
       "      <td>1</td>\n",
       "      <td>0.0</td>\n",
       "      <td>240.0</td>\n",
       "      <td>120.0</td>\n",
       "      <td>28</td>\n",
       "      <td>-2.186494</td>\n",
       "      <td>52.719006</td>\n",
       "      <td>MULTIPOLYGON (((-1.69309 52.35467, -1.69315 52...</td>\n",
       "    </tr>\n",
       "  </tbody>\n",
       "</table>\n",
       "</div>"
      ],
      "text/plain": [
       "   inside  band1  grid_id  index_right  iso_id  id  min    max  center  \\\n",
       "0    True     28     2669            0    2556   1  0.0  240.0   120.0   \n",
       "\n",
       "   population       lon        lat  \\\n",
       "0          28 -2.186494  52.719006   \n",
       "\n",
       "                                            geometry  \n",
       "0  MULTIPOLYGON (((-1.69309 52.35467, -1.69315 52...  "
      ]
     },
     "execution_count": 7,
     "metadata": {},
     "output_type": "execute_result"
    }
   ],
   "source": []
  },
  {
   "cell_type": "code",
   "execution_count": null,
   "metadata": {},
   "outputs": [],
   "source": []
  }
 ],
 "metadata": {
  "kernelspec": {
   "display_name": "Python 3",
   "language": "python",
   "name": "python3"
  },
  "language_info": {
   "codemirror_mode": {
    "name": "ipython",
    "version": 3
   },
   "file_extension": ".py",
   "mimetype": "text/x-python",
   "name": "python",
   "nbconvert_exporter": "python",
   "pygments_lexer": "ipython3",
   "version": "3.9.5"
  }
 },
 "nbformat": 4,
 "nbformat_minor": 4
}
