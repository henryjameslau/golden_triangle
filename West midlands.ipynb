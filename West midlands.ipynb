{
 "cells": [
  {
   "cell_type": "code",
   "execution_count": 2,
   "metadata": {},
   "outputs": [],
   "source": [
    "import multiprocess as mp\n",
    "import tqdm\n",
    "import geopandas as gpd\n",
    "import pandas as pd\n",
    "import shapely\n",
    "import fiona\n",
    "shapely.speedups.enable()"
   ]
  },
  {
   "cell_type": "markdown",
   "metadata": {},
   "source": [
    "### To do\n",
    "- reduce coordinate precision to speed things up\n"
   ]
  },
  {
   "cell_type": "code",
   "execution_count": 3,
   "metadata": {},
   "outputs": [],
   "source": [
    "# Load in the isochrones for the East Midlands\n",
    "df = gpd.read_file('isochrones/west_midlands.geojson')"
   ]
  },
  {
   "cell_type": "code",
   "execution_count": 5,
   "metadata": {},
   "outputs": [],
   "source": [
    "#Load in the centroids from the population grid\n",
    "centroids = gpd.read_file('data/gb_centroid.geojson')"
   ]
  },
  {
   "cell_type": "code",
   "execution_count": 52,
   "metadata": {},
   "outputs": [
    {
     "data": {
      "text/plain": [
       "60553399"
      ]
     },
     "execution_count": 52,
     "metadata": {},
     "output_type": "execute_result"
    }
   ],
   "source": [
    "# Calculate the total population of the UK\n",
    "totalpop=centroids['population'].sum()\n",
    "totalpop"
   ]
  },
  {
   "cell_type": "code",
   "execution_count": 50,
   "metadata": {},
   "outputs": [],
   "source": [
    "# define a function that takes a isochrone, filters the centroids within the isochrone and then adds the population. Returns true is that isochrone contains 90% of the GB population\n",
    "def inthegoldentriangle(isochrone):\n",
    "    within=centroids.loc[centroids.within(isochrone)]\n",
    "    if(within['population'].sum()/totalpop>0.9):\n",
    "        return True\n",
    "    else:\n",
    "        return False    "
   ]
  },
  {
   "cell_type": "code",
   "execution_count": 53,
   "metadata": {},
   "outputs": [
    {
     "data": {
      "text/plain": [
       "False"
      ]
     },
     "execution_count": 53,
     "metadata": {},
     "output_type": "execute_result"
    }
   ],
   "source": [
    "# test the function if necessary\n",
    "inthegoldentriangle(df['geometry'][4])"
   ]
  },
  {
   "cell_type": "code",
   "execution_count": 58,
   "metadata": {},
   "outputs": [
    {
     "data": {
      "application/vnd.jupyter.widget-view+json": {
       "model_id": "ebd3e1a79e1a444ea6dc455a9f2fef92",
       "version_major": 2,
       "version_minor": 0
      },
      "text/plain": [
       "HBox(children=(IntProgress(value=0, max=9627), HTML(value='')))"
      ]
     },
     "metadata": {},
     "output_type": "display_data"
    }
   ],
   "source": [
    "# run the function across all the isochrones in parallel, save it to a list called output\n",
    "pool=mp.Pool(8) #use 8 processing threads\n",
    "output = list(tqdm.tqdm_notebook(pool.imap(inthegoldentriangle2, df['geometry']), total=len(df['geometry'])))\n",
    "pool.close()\n",
    "pool.join()"
   ]
  },
  {
   "cell_type": "code",
   "execution_count": 60,
   "metadata": {},
   "outputs": [
    {
     "data": {
      "text/plain": [
       "703"
      ]
     },
     "execution_count": 60,
     "metadata": {},
     "output_type": "execute_result"
    }
   ],
   "source": [
    "# find out how many squares are within the golden triangle\n",
    "sum(x==True for x in output)"
   ]
  },
  {
   "cell_type": "code",
   "execution_count": 61,
   "metadata": {},
   "outputs": [],
   "source": [
    "# Add the column to the isochrones\n",
    "df['inside']=output"
   ]
  },
  {
   "cell_type": "code",
   "execution_count": 62,
   "metadata": {},
   "outputs": [
    {
     "data": {
      "text/html": [
       "<div>\n",
       "<style scoped>\n",
       "    .dataframe tbody tr th:only-of-type {\n",
       "        vertical-align: middle;\n",
       "    }\n",
       "\n",
       "    .dataframe tbody tr th {\n",
       "        vertical-align: top;\n",
       "    }\n",
       "\n",
       "    .dataframe thead th {\n",
       "        text-align: right;\n",
       "    }\n",
       "</style>\n",
       "<table border=\"1\" class=\"dataframe\">\n",
       "  <thead>\n",
       "    <tr style=\"text-align: right;\">\n",
       "      <th></th>\n",
       "      <th>iso_id</th>\n",
       "      <th>id</th>\n",
       "      <th>min</th>\n",
       "      <th>max</th>\n",
       "      <th>center</th>\n",
       "      <th>geometry</th>\n",
       "      <th>inside</th>\n",
       "    </tr>\n",
       "  </thead>\n",
       "  <tbody>\n",
       "    <tr>\n",
       "      <th>2555</th>\n",
       "      <td>2556</td>\n",
       "      <td>1</td>\n",
       "      <td>0.0</td>\n",
       "      <td>240.0</td>\n",
       "      <td>120.0</td>\n",
       "      <td>MULTIPOLYGON (((-2.66973 55.35001, -2.99188 55...</td>\n",
       "      <td>True</td>\n",
       "    </tr>\n",
       "    <tr>\n",
       "      <th>2637</th>\n",
       "      <td>2638</td>\n",
       "      <td>1</td>\n",
       "      <td>0.0</td>\n",
       "      <td>240.0</td>\n",
       "      <td>120.0</td>\n",
       "      <td>MULTIPOLYGON (((-2.61048 55.40953, -2.93264 55...</td>\n",
       "      <td>True</td>\n",
       "    </tr>\n",
       "    <tr>\n",
       "      <th>2638</th>\n",
       "      <td>2639</td>\n",
       "      <td>1</td>\n",
       "      <td>0.0</td>\n",
       "      <td>240.0</td>\n",
       "      <td>120.0</td>\n",
       "      <td>MULTIPOLYGON (((-1.62922 55.23503, -1.89677 55...</td>\n",
       "      <td>True</td>\n",
       "    </tr>\n",
       "    <tr>\n",
       "      <th>2639</th>\n",
       "      <td>2640</td>\n",
       "      <td>1</td>\n",
       "      <td>0.0</td>\n",
       "      <td>240.0</td>\n",
       "      <td>120.0</td>\n",
       "      <td>MULTIPOLYGON (((-2.58088 55.38399, -2.90303 55...</td>\n",
       "      <td>True</td>\n",
       "    </tr>\n",
       "    <tr>\n",
       "      <th>2640</th>\n",
       "      <td>2641</td>\n",
       "      <td>1</td>\n",
       "      <td>0.0</td>\n",
       "      <td>240.0</td>\n",
       "      <td>120.0</td>\n",
       "      <td>MULTIPOLYGON (((-1.57001 55.24352, -1.85239 55...</td>\n",
       "      <td>True</td>\n",
       "    </tr>\n",
       "    <tr>\n",
       "      <th>...</th>\n",
       "      <td>...</td>\n",
       "      <td>...</td>\n",
       "      <td>...</td>\n",
       "      <td>...</td>\n",
       "      <td>...</td>\n",
       "      <td>...</td>\n",
       "      <td>...</td>\n",
       "    </tr>\n",
       "    <tr>\n",
       "      <th>6442</th>\n",
       "      <td>6443</td>\n",
       "      <td>1</td>\n",
       "      <td>0.0</td>\n",
       "      <td>240.0</td>\n",
       "      <td>120.0</td>\n",
       "      <td>MULTIPOLYGON (((-1.24676 55.06536, -1.56891 55...</td>\n",
       "      <td>True</td>\n",
       "    </tr>\n",
       "    <tr>\n",
       "      <th>6526</th>\n",
       "      <td>6527</td>\n",
       "      <td>1</td>\n",
       "      <td>0.0</td>\n",
       "      <td>240.0</td>\n",
       "      <td>120.0</td>\n",
       "      <td>MULTIPOLYGON (((-1.37883 55.04827, -1.70099 55...</td>\n",
       "      <td>True</td>\n",
       "    </tr>\n",
       "    <tr>\n",
       "      <th>6532</th>\n",
       "      <td>6533</td>\n",
       "      <td>1</td>\n",
       "      <td>0.0</td>\n",
       "      <td>240.0</td>\n",
       "      <td>120.0</td>\n",
       "      <td>MULTIPOLYGON (((-1.29082 55.05676, -1.61297 55...</td>\n",
       "      <td>True</td>\n",
       "    </tr>\n",
       "    <tr>\n",
       "      <th>6627</th>\n",
       "      <td>6628</td>\n",
       "      <td>1</td>\n",
       "      <td>0.0</td>\n",
       "      <td>240.0</td>\n",
       "      <td>120.0</td>\n",
       "      <td>MULTIPOLYGON (((-1.29087 55.04787, -1.61302 55...</td>\n",
       "      <td>True</td>\n",
       "    </tr>\n",
       "    <tr>\n",
       "      <th>6712</th>\n",
       "      <td>6713</td>\n",
       "      <td>1</td>\n",
       "      <td>0.0</td>\n",
       "      <td>240.0</td>\n",
       "      <td>120.0</td>\n",
       "      <td>MULTIPOLYGON (((-1.29091 55.03837, -1.61307 55...</td>\n",
       "      <td>True</td>\n",
       "    </tr>\n",
       "  </tbody>\n",
       "</table>\n",
       "<p>703 rows × 7 columns</p>\n",
       "</div>"
      ],
      "text/plain": [
       "      iso_id  id  min    max  center  \\\n",
       "2555    2556   1  0.0  240.0   120.0   \n",
       "2637    2638   1  0.0  240.0   120.0   \n",
       "2638    2639   1  0.0  240.0   120.0   \n",
       "2639    2640   1  0.0  240.0   120.0   \n",
       "2640    2641   1  0.0  240.0   120.0   \n",
       "...      ...  ..  ...    ...     ...   \n",
       "6442    6443   1  0.0  240.0   120.0   \n",
       "6526    6527   1  0.0  240.0   120.0   \n",
       "6532    6533   1  0.0  240.0   120.0   \n",
       "6627    6628   1  0.0  240.0   120.0   \n",
       "6712    6713   1  0.0  240.0   120.0   \n",
       "\n",
       "                                               geometry  inside  \n",
       "2555  MULTIPOLYGON (((-2.66973 55.35001, -2.99188 55...    True  \n",
       "2637  MULTIPOLYGON (((-2.61048 55.40953, -2.93264 55...    True  \n",
       "2638  MULTIPOLYGON (((-1.62922 55.23503, -1.89677 55...    True  \n",
       "2639  MULTIPOLYGON (((-2.58088 55.38399, -2.90303 55...    True  \n",
       "2640  MULTIPOLYGON (((-1.57001 55.24352, -1.85239 55...    True  \n",
       "...                                                 ...     ...  \n",
       "6442  MULTIPOLYGON (((-1.24676 55.06536, -1.56891 55...    True  \n",
       "6526  MULTIPOLYGON (((-1.37883 55.04827, -1.70099 55...    True  \n",
       "6532  MULTIPOLYGON (((-1.29082 55.05676, -1.61297 55...    True  \n",
       "6627  MULTIPOLYGON (((-1.29087 55.04787, -1.61302 55...    True  \n",
       "6712  MULTIPOLYGON (((-1.29091 55.03837, -1.61307 55...    True  \n",
       "\n",
       "[703 rows x 7 columns]"
      ]
     },
     "execution_count": 62,
     "metadata": {},
     "output_type": "execute_result"
    }
   ],
   "source": [
    "# Here's all the isochrones that are within the golden triangle\n",
    "df[df['inside']==True]"
   ]
  },
  {
   "cell_type": "code",
   "execution_count": 4,
   "metadata": {},
   "outputs": [
    {
     "ename": "NameError",
     "evalue": "name 'output' is not defined",
     "output_type": "error",
     "traceback": [
      "\u001b[0;31m---------------------------------------------------------------------------\u001b[0m",
      "\u001b[0;31mNameError\u001b[0m                                 Traceback (most recent call last)",
      "\u001b[0;32m<ipython-input-4-586b951c2e94>\u001b[0m in \u001b[0;36m<module>\u001b[0;34m\u001b[0m\n\u001b[1;32m      1\u001b[0m \u001b[0;31m# attach if a centroid is within the golden triangle\u001b[0m\u001b[0;34m\u001b[0m\u001b[0;34m\u001b[0m\u001b[0m\n\u001b[1;32m      2\u001b[0m \u001b[0mlookup\u001b[0m\u001b[0;34m=\u001b[0m\u001b[0mgpd\u001b[0m\u001b[0;34m.\u001b[0m\u001b[0mread_file\u001b[0m\u001b[0;34m(\u001b[0m\u001b[0;34m'lookups/west_midlands_lookup.geojson'\u001b[0m\u001b[0;34m)\u001b[0m\u001b[0;34m\u001b[0m\u001b[0;34m\u001b[0m\u001b[0m\n\u001b[0;32m----> 3\u001b[0;31m \u001b[0mlookup\u001b[0m\u001b[0;34m[\u001b[0m\u001b[0;34m'inside'\u001b[0m\u001b[0;34m]\u001b[0m\u001b[0;34m=\u001b[0m\u001b[0moutput\u001b[0m\u001b[0;34m\u001b[0m\u001b[0;34m\u001b[0m\u001b[0m\n\u001b[0m",
      "\u001b[0;31mNameError\u001b[0m: name 'output' is not defined"
     ]
    }
   ],
   "source": [
    "# attach if a centroid is within the golden triangle\n",
    "lookup=gpd.read_file('lookups/west_midlands_lookup.geojson')\n",
    "lookup['inside']=output\n"
   ]
  },
  {
   "cell_type": "code",
   "execution_count": 76,
   "metadata": {},
   "outputs": [],
   "source": [
    "# find the centre points of the golden isochrones\n",
    "goldentriangle=lookup[lookup['inside']==True]\n",
    "# output those points as a geojson\n",
    "goldentriangle.to_file('westmidlands-inside.geojson',driver='GeoJSON')"
   ]
  },
  {
   "cell_type": "code",
   "execution_count": 68,
   "metadata": {
    "collapsed": true
   },
   "outputs": [
    {
     "data": {
      "text/html": [
       "<div>\n",
       "<style scoped>\n",
       "    .dataframe tbody tr th:only-of-type {\n",
       "        vertical-align: middle;\n",
       "    }\n",
       "\n",
       "    .dataframe tbody tr th {\n",
       "        vertical-align: top;\n",
       "    }\n",
       "\n",
       "    .dataframe thead th {\n",
       "        text-align: right;\n",
       "    }\n",
       "</style>\n",
       "<table border=\"1\" class=\"dataframe\">\n",
       "  <thead>\n",
       "    <tr style=\"text-align: right;\">\n",
       "      <th></th>\n",
       "      <th>iso_id</th>\n",
       "      <th>id</th>\n",
       "      <th>min</th>\n",
       "      <th>max</th>\n",
       "      <th>center</th>\n",
       "      <th>population</th>\n",
       "      <th>lon</th>\n",
       "      <th>lat</th>\n",
       "      <th>geometry</th>\n",
       "      <th>inside</th>\n",
       "    </tr>\n",
       "  </thead>\n",
       "  <tbody>\n",
       "    <tr>\n",
       "      <th>2555</th>\n",
       "      <td>2556</td>\n",
       "      <td>1</td>\n",
       "      <td>0.0</td>\n",
       "      <td>240.0</td>\n",
       "      <td>120.0</td>\n",
       "      <td>28</td>\n",
       "      <td>-2.186494</td>\n",
       "      <td>52.719006</td>\n",
       "      <td>POINT (-2.18649 52.71901)</td>\n",
       "      <td>True</td>\n",
       "    </tr>\n",
       "    <tr>\n",
       "      <th>2637</th>\n",
       "      <td>2638</td>\n",
       "      <td>1</td>\n",
       "      <td>0.0</td>\n",
       "      <td>240.0</td>\n",
       "      <td>120.0</td>\n",
       "      <td>9</td>\n",
       "      <td>-2.127250</td>\n",
       "      <td>52.710095</td>\n",
       "      <td>POINT (-2.12725 52.71010)</td>\n",
       "      <td>True</td>\n",
       "    </tr>\n",
       "    <tr>\n",
       "      <th>2638</th>\n",
       "      <td>2639</td>\n",
       "      <td>1</td>\n",
       "      <td>0.0</td>\n",
       "      <td>240.0</td>\n",
       "      <td>120.0</td>\n",
       "      <td>217</td>\n",
       "      <td>-2.112448</td>\n",
       "      <td>52.710110</td>\n",
       "      <td>POINT (-2.11245 52.71011)</td>\n",
       "      <td>True</td>\n",
       "    </tr>\n",
       "    <tr>\n",
       "      <th>2639</th>\n",
       "      <td>2640</td>\n",
       "      <td>1</td>\n",
       "      <td>0.0</td>\n",
       "      <td>240.0</td>\n",
       "      <td>120.0</td>\n",
       "      <td>154</td>\n",
       "      <td>-2.097647</td>\n",
       "      <td>52.710123</td>\n",
       "      <td>POINT (-2.09765 52.71012)</td>\n",
       "      <td>True</td>\n",
       "    </tr>\n",
       "    <tr>\n",
       "      <th>2640</th>\n",
       "      <td>2641</td>\n",
       "      <td>1</td>\n",
       "      <td>0.0</td>\n",
       "      <td>240.0</td>\n",
       "      <td>120.0</td>\n",
       "      <td>85</td>\n",
       "      <td>-2.053243</td>\n",
       "      <td>52.710152</td>\n",
       "      <td>POINT (-2.05324 52.71015)</td>\n",
       "      <td>True</td>\n",
       "    </tr>\n",
       "    <tr>\n",
       "      <th>...</th>\n",
       "      <td>...</td>\n",
       "      <td>...</td>\n",
       "      <td>...</td>\n",
       "      <td>...</td>\n",
       "      <td>...</td>\n",
       "      <td>...</td>\n",
       "      <td>...</td>\n",
       "      <td>...</td>\n",
       "      <td>...</td>\n",
       "      <td>...</td>\n",
       "    </tr>\n",
       "    <tr>\n",
       "      <th>6442</th>\n",
       "      <td>6443</td>\n",
       "      <td>1</td>\n",
       "      <td>0.0</td>\n",
       "      <td>240.0</td>\n",
       "      <td>120.0</td>\n",
       "      <td>20</td>\n",
       "      <td>-1.729990</td>\n",
       "      <td>52.323290</td>\n",
       "      <td>POINT (-1.72999 52.32329)</td>\n",
       "      <td>True</td>\n",
       "    </tr>\n",
       "    <tr>\n",
       "      <th>6526</th>\n",
       "      <td>6527</td>\n",
       "      <td>1</td>\n",
       "      <td>0.0</td>\n",
       "      <td>240.0</td>\n",
       "      <td>120.0</td>\n",
       "      <td>68</td>\n",
       "      <td>-1.862066</td>\n",
       "      <td>52.314527</td>\n",
       "      <td>POINT (-1.86207 52.31453)</td>\n",
       "      <td>True</td>\n",
       "    </tr>\n",
       "    <tr>\n",
       "      <th>6532</th>\n",
       "      <td>6533</td>\n",
       "      <td>1</td>\n",
       "      <td>0.0</td>\n",
       "      <td>240.0</td>\n",
       "      <td>120.0</td>\n",
       "      <td>21</td>\n",
       "      <td>-1.774051</td>\n",
       "      <td>52.314392</td>\n",
       "      <td>POINT (-1.77405 52.31439)</td>\n",
       "      <td>True</td>\n",
       "    </tr>\n",
       "    <tr>\n",
       "      <th>6627</th>\n",
       "      <td>6628</td>\n",
       "      <td>1</td>\n",
       "      <td>0.0</td>\n",
       "      <td>240.0</td>\n",
       "      <td>120.0</td>\n",
       "      <td>132</td>\n",
       "      <td>-1.774097</td>\n",
       "      <td>52.305402</td>\n",
       "      <td>POINT (-1.77410 52.30540)</td>\n",
       "      <td>True</td>\n",
       "    </tr>\n",
       "    <tr>\n",
       "      <th>6712</th>\n",
       "      <td>6713</td>\n",
       "      <td>1</td>\n",
       "      <td>0.0</td>\n",
       "      <td>240.0</td>\n",
       "      <td>120.0</td>\n",
       "      <td>608</td>\n",
       "      <td>-1.774143</td>\n",
       "      <td>52.296412</td>\n",
       "      <td>POINT (-1.77414 52.29641)</td>\n",
       "      <td>True</td>\n",
       "    </tr>\n",
       "  </tbody>\n",
       "</table>\n",
       "<p>703 rows × 10 columns</p>\n",
       "</div>"
      ],
      "text/plain": [
       "      iso_id  id  min    max  center  population       lon        lat  \\\n",
       "2555    2556   1  0.0  240.0   120.0          28 -2.186494  52.719006   \n",
       "2637    2638   1  0.0  240.0   120.0           9 -2.127250  52.710095   \n",
       "2638    2639   1  0.0  240.0   120.0         217 -2.112448  52.710110   \n",
       "2639    2640   1  0.0  240.0   120.0         154 -2.097647  52.710123   \n",
       "2640    2641   1  0.0  240.0   120.0          85 -2.053243  52.710152   \n",
       "...      ...  ..  ...    ...     ...         ...       ...        ...   \n",
       "6442    6443   1  0.0  240.0   120.0          20 -1.729990  52.323290   \n",
       "6526    6527   1  0.0  240.0   120.0          68 -1.862066  52.314527   \n",
       "6532    6533   1  0.0  240.0   120.0          21 -1.774051  52.314392   \n",
       "6627    6628   1  0.0  240.0   120.0         132 -1.774097  52.305402   \n",
       "6712    6713   1  0.0  240.0   120.0         608 -1.774143  52.296412   \n",
       "\n",
       "                       geometry  inside  \n",
       "2555  POINT (-2.18649 52.71901)    True  \n",
       "2637  POINT (-2.12725 52.71010)    True  \n",
       "2638  POINT (-2.11245 52.71011)    True  \n",
       "2639  POINT (-2.09765 52.71012)    True  \n",
       "2640  POINT (-2.05324 52.71015)    True  \n",
       "...                         ...     ...  \n",
       "6442  POINT (-1.72999 52.32329)    True  \n",
       "6526  POINT (-1.86207 52.31453)    True  \n",
       "6532  POINT (-1.77405 52.31439)    True  \n",
       "6627  POINT (-1.77410 52.30540)    True  \n",
       "6712  POINT (-1.77414 52.29641)    True  \n",
       "\n",
       "[703 rows x 10 columns]"
      ]
     },
     "execution_count": 68,
     "metadata": {},
     "output_type": "execute_result"
    }
   ],
   "source": [
    "# make a geodataframe with the points\n",
    "gdf = gpd.GeoDataFrame(goldentriangle, geometry=gpd.points_from_xy(goldentriangle.lon,goldentriangle.lat))\n",
    "# save it to a geojson\n",
    "gdf.to_file('goldenpoints-westmidlands.geojson',driver='GeoJSON')"
   ]
  },
  {
   "cell_type": "code",
   "execution_count": 71,
   "metadata": {},
   "outputs": [],
   "source": [
    "# to make a convex hull around the points, convert it to a geodataframe, and then save it\n",
    "triangle=gdf.unary_union.convex_hull\n",
    "hull = gpd.GeoDataFrame(geometry=gpd.GeoSeries(triangle))\n",
    "hull\n",
    "hull.set_crs('wgs84')\n",
    "hull.to_file('goldentriangle-westmidlands.geojson',driver='GeoJSON')"
   ]
  },
  {
   "cell_type": "markdown",
   "metadata": {},
   "source": [
    "To create a geojson that contains all the merged 1 square km grids that are golden.\n"
   ]
  },
  {
   "cell_type": "code",
   "execution_count": 11,
   "metadata": {},
   "outputs": [],
   "source": [
    "goldenpoints=gpd.read_file('goldenpoints-westmidlands.geojson')"
   ]
  },
  {
   "cell_type": "code",
   "execution_count": 3,
   "metadata": {},
   "outputs": [],
   "source": [
    "#read in the grid file for the WMs\n",
    "wmgrid=gpd.read_file('wm_grid.geojson').to_crs('wgs84')\n",
    "wmgrid=wmgrid.drop(columns=['OBJECTID','RGN20CD','RGN20NM','BNG_E','BNG_N','LONG','LAT','Shape__Area','Shape__Length'])"
   ]
  },
  {
   "cell_type": "code",
   "execution_count": 15,
   "metadata": {},
   "outputs": [],
   "source": [
    "# select the square KMs, that contain golden centroids\n",
    "goldengrid=gpd.sjoin(wmgrid,goldenpoints, op='contains')"
   ]
  },
  {
   "cell_type": "code",
   "execution_count": 16,
   "metadata": {},
   "outputs": [],
   "source": [
    "# this is the grid as individual squares\n",
    "goldengrid.to_file('wmgoldengrid.geojson',driver='GeoJSON')"
   ]
  },
  {
   "cell_type": "code",
   "execution_count": 17,
   "metadata": {},
   "outputs": [],
   "source": [
    "# merge the squares together if possible\n",
    "onegrid=goldengrid.dissolve(by='inside')\n",
    "#and save it \n",
    "onegrid.to_file('wmgoldengridmerged.geojson',driver='GeoJSON')"
   ]
  }
 ],
 "metadata": {
  "kernelspec": {
   "display_name": "Python 3",
   "language": "python",
   "name": "python3"
  },
  "language_info": {
   "codemirror_mode": {
    "name": "ipython",
    "version": 3
   },
   "file_extension": ".py",
   "mimetype": "text/x-python",
   "name": "python",
   "nbconvert_exporter": "python",
   "pygments_lexer": "ipython3",
   "version": "3.9.10"
  }
 },
 "nbformat": 4,
 "nbformat_minor": 4
}
